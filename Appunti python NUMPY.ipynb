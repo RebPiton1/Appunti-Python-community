{
 "cells": [
  {
   "cell_type": "markdown",
   "id": "c15453e1-5e61-4207-85c3-440f3a3b64de",
   "metadata": {},
   "source": [
    "# APPUNTI PYTHON: LIBRERIA NUMPY"
   ]
  },
  {
   "cell_type": "markdown",
   "id": "3b612468-aa20-4150-ac47-70b458fc2201",
   "metadata": {},
   "source": [
    "NumPy è una libreria di Python fondamentale per il calcolo scientifico e l'analisi dei dati. Offre una vasta gamma di funzioni e strumenti, inclusi array multidimensionali (più efficienti delle liste Python), funzioni matematiche, statistiche e operazioni di algebra lineare. Di seguito si riportano alcuni concetti chiave.\n"
   ]
  },
  {
   "cell_type": "markdown",
   "id": "cfbf4af9-f103-4fbe-bfa4-9a101f42ec4d",
   "metadata": {},
   "source": [
    "## ARRAY"
   ]
  },
  {
   "cell_type": "markdown",
   "id": "1a078fd7-94f2-448d-a9ed-9189a13bf7a4",
   "metadata": {},
   "source": [
    "### CREAZIONE DI ARRAY tramite funzioni NUMPY"
   ]
  },
  {
   "cell_type": "markdown",
   "id": "58dd5b71-aa23-48b9-9333-da9db21b4d3b",
   "metadata": {},
   "source": [
    "Puoi creare array di NumPy con __np.array(shape, dtype=float)__ o utilizzando altre funzioni come:\n",
    "1) np.zeros() che crea un array con tutti zeri\n",
    "2) np.ones() che crea un array con tutti 1\n",
    "3) np.arange([start,] stop, [step,] dtype=None) dove di defaul si inizia da zero e si va avant con step di 1\n",
    "4) np.linspace(start, stop, num=, endpoint=True, retstep=False, dtype=None) genera un array di numeri equamente distanziati su un intervallo specificato\n",
    "   - endpoint: se True, include il valore di stop come ultimo elemento; se False, lo esclude. Di default è True\n",
    "   - retstep: se True, restituisce sia l'array che il passo tra i valori. Di default è False\n",
    "   - dtype: il tipo di dato degli elementi dell'array\n",
    "5) np.random.rand(d0, d1, ..., dn) crea un array con dimensioni d0,...,dn e elementi con distribuzione uniforme tra 0 e 1"
   ]
  },
  {
   "cell_type": "markdown",
   "id": "ca10f926-a0fe-4c06-9063-4445f9ba469f",
   "metadata": {},
   "source": [
    " A volte quando bisogna creare un array dnetro dei cicli for è utile creare una lista vuota, che si riempie man mano all'interno di un ciclo for utilizzando una funzione __lista_vuota.append(i)__ dove \"i\" è l'elemento da inserire all'interno della lista,  per poi convertirla in array, un esempio è il seguente:"
   ]
  },
  {
   "cell_type": "code",
   "execution_count": 16,
   "id": "e0dd3e38-e781-42b7-ba93-9c70d4633aa7",
   "metadata": {},
   "outputs": [
    {
     "name": "stdout",
     "output_type": "stream",
     "text": [
      "[0 1 2 3 4 5 6 7 8 9]\n"
     ]
    }
   ],
   "source": [
    "import numpy as np\n",
    "\n",
    "# 1. Crea una lista vuota\n",
    "lista_vuota = []\n",
    "\n",
    "# 2. Usa un ciclo for per riempire la lista\n",
    "for i in range(10):  # Ad esempio, riempiamo la lista con i numeri da 0 a 9\n",
    "    lista_vuota.append(i)\n",
    "\n",
    "# 3. Converti la lista in un array NumPy\n",
    "array = np.array(lista_vuota)\n",
    "\n",
    "# 4. Stampa l'array\n",
    "print(array)\n"
   ]
  },
  {
   "cell_type": "markdown",
   "id": "39def0b1-b4ae-4690-82c5-96046cbe4f68",
   "metadata": {},
   "source": [
    "### COME FUNZIONA LA SHAPE"
   ]
  },
  {
   "cell_type": "markdown",
   "id": "a78b225e-6c0e-4160-889c-df4cf1700e0e",
   "metadata": {},
   "source": [
    "### DIMENSIONI degli ARRAY"
   ]
  },
  {
   "cell_type": "markdown",
   "id": "8d56dddc-1a2d-4ea3-97b5-3d7912e52e98",
   "metadata": {},
   "source": [
    "Gli arrayin python possono avere diverse dimensioni. Di seguito un esempio di array uni e bi dimensionale."
   ]
  },
  {
   "cell_type": "code",
   "execution_count": 17,
   "id": "c8cd6750-343a-448e-8807-b27f600ac460",
   "metadata": {},
   "outputs": [
    {
     "name": "stdout",
     "output_type": "stream",
     "text": [
      "un esempio di array unidimensionale: [1 2 3]\n",
      "un esempio di array bidimensionale: [[1 2 3]\n",
      " [4 5 6]]\n"
     ]
    }
   ],
   "source": [
    "import numpy as np\n",
    "a = np.array([1, 2, 3])  # Array 1D\n",
    "b = np.array([[1, 2, 3], [4, 5, 6]])  # Array 2D\n",
    "print('un esempio di array unidimensionale:', a)\n",
    "print('un esempio di array bidimensionale:', b)"
   ]
  },
  {
   "cell_type": "markdown",
   "id": "a7b2e0a4-8768-4397-a51f-f711d4786eda",
   "metadata": {},
   "source": [
    "L'array unidimensionale non è nè un array riga nè un array colonna però può essere interpretato in modi diversi:\n",
    "* Array riga: a.reshape(1, 3) oppure a[np.newaxis, :] — risultato: [[1, 2, 3]]\n",
    "* Array colonna: a.reshape(3, 1) oppure a[:, np.newaxis] — risultato: [[1], [2], [3]]\n",
    "Si può anche fare il trasposto di un array usando questa funzione:"
   ]
  },
  {
   "cell_type": "code",
   "execution_count": 18,
   "id": "fca16365-ada7-4ee0-8925-30960a23689d",
   "metadata": {},
   "outputs": [
    {
     "name": "stdout",
     "output_type": "stream",
     "text": [
      "[[1 4]\n",
      " [2 5]\n",
      " [3 6]]\n"
     ]
    }
   ],
   "source": [
    "b_trasposta=b.T #b è una matrice con 2 righe e 3 colonne mentre b_trasposta è una matrice con 3 righe e due colonne\n",
    "print(b_trasposta)"
   ]
  },
  {
   "cell_type": "markdown",
   "id": "d98ff9dd-6740-43f4-9b45-1ac56e3adcb1",
   "metadata": {},
   "source": [
    "Si nota quindi come le parentesi quadre indichino le righe, ognuna di queste parentesi quadre deve avere lo stesso numero di elementi (che corrisponde al numero di colonne della matrice), il numero di parentesi quadre inoltre identifica il numero di righe della matrice."
   ]
  },
  {
   "cell_type": "markdown",
   "id": "5c5c72e3-8b14-42df-933b-03ac73e63aa6",
   "metadata": {},
   "source": [
    "### INDICIZZAZIONE E SLICING (array di array)"
   ]
  },
  {
   "cell_type": "markdown",
   "id": "437dbc3d-2c81-4fd3-b1e6-609f1630bd2c",
   "metadata": {},
   "source": [
    "### OPERAZIONE SUGLI ARRAY"
   ]
  },
  {
   "cell_type": "markdown",
   "id": "08b6a005-5a46-4741-a039-ce0ba27d58cd",
   "metadata": {},
   "source": [
    "Puoi effettuare operazioni come addizione, sottrazione, moltiplicazione e divisione direttamente sugli array."
   ]
  },
  {
   "cell_type": "code",
   "execution_count": 21,
   "id": "96b9824c-14d1-4387-8437-81986f614b91",
   "metadata": {},
   "outputs": [
    {
     "name": "stdout",
     "output_type": "stream",
     "text": [
      "[5 7 9] [-3 -3 -3] [ 4 10 18] [0.25 0.4  0.5 ]\n"
     ]
    }
   ],
   "source": [
    "a = np.array([1, 2, 3])  # Array 1D\n",
    "b = np.array([4, 5, 6])\n",
    "print(a+b, a-b, a*b, a/b)"
   ]
  },
  {
   "cell_type": "code",
   "execution_count": 23,
   "id": "6b0730eb-9efc-4ed2-b04a-1b39aa52de48",
   "metadata": {},
   "outputs": [
    {
     "name": "stdout",
     "output_type": "stream",
     "text": [
      "[11 12 13]\n"
     ]
    }
   ],
   "source": [
    "a_2=a+10 #aggiunge 10 ad ogni elemnto dell'array\n",
    "print(a_2)"
   ]
  },
  {
   "cell_type": "markdown",
   "id": "3a87ce60-4c49-42a2-b233-a25880c71620",
   "metadata": {},
   "source": [
    "## FUNZIONI UNIVERSALI"
   ]
  },
  {
   "cell_type": "markdown",
   "id": "84a97533-c78c-42ca-8d25-b11cb9bd7433",
   "metadata": {},
   "source": [
    "## STATISTICA"
   ]
  },
  {
   "cell_type": "markdown",
   "id": "d3df820e-46bd-4bce-bde2-80bca62bf789",
   "metadata": {},
   "source": [
    "### CREAZIONE DI UN ISTOGRAMMA"
   ]
  },
  {
   "cell_type": "markdown",
   "id": "664300c5-6619-4238-a86c-ff23895360dc",
   "metadata": {},
   "source": [
    "### PLOTTARE LA GAUSSIANA SOPRA L'ISTOGRAMMA"
   ]
  },
  {
   "cell_type": "code",
   "execution_count": null,
   "id": "aa90349c-54a0-42bb-bebe-dcd2bbe04f46",
   "metadata": {},
   "outputs": [],
   "source": []
  }
 ],
 "metadata": {
  "kernelspec": {
   "display_name": "Python 3 (ipykernel)",
   "language": "python",
   "name": "python3"
  },
  "language_info": {
   "codemirror_mode": {
    "name": "ipython",
    "version": 3
   },
   "file_extension": ".py",
   "mimetype": "text/x-python",
   "name": "python",
   "nbconvert_exporter": "python",
   "pygments_lexer": "ipython3",
   "version": "3.12.6"
  }
 },
 "nbformat": 4,
 "nbformat_minor": 5
}
